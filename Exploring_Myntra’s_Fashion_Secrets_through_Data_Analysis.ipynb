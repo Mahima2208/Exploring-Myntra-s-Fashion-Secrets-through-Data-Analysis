{
  "cells": [
    {
      "cell_type": "markdown",
      "metadata": {
        "id": "view-in-github",
        "colab_type": "text"
      },
      "source": [
        "<a href=\"https://colab.research.google.com/github/Mahima2208/Exploring-Myntra-s-Fashion-Secrets-through-Data-Analysis/blob/main/Exploring_Myntra%E2%80%99s_Fashion_Secrets_through_Data_Analysis.ipynb\" target=\"_parent\"><img src=\"https://colab.research.google.com/assets/colab-badge.svg\" alt=\"Open In Colab\"/></a>"
      ]
    },
    {
      "cell_type": "markdown",
      "source": [
        "## **Exploring Myntra’s Fashion Secrets through Data Analysis**"
      ],
      "metadata": {
        "id": "o2aFA4M1KZ-_"
      }
    },
    {
      "cell_type": "code",
      "execution_count": null,
      "metadata": {
        "id": "HpQ-oBsYjfAH"
      },
      "outputs": [],
      "source": [
        "#Importing all the libarary\n",
        "\n",
        "import numpy as np\n",
        "import pandas as pd\n",
        "from numpy import math\n",
        "\n",
        "#Importing libraries for Data Visualization\n",
        "import seaborn as sns\n",
        "import matplotlib.pyplot as plt\n",
        "%matplotlib inline\n",
        "from matplotlib import rcParams\n",
        "color = sns.color_palette()\n",
        "from wordcloud import WordCloud,STOPWORDS\n",
        "import re\n",
        "\n",
        "#Importing Machine Learning libraries\n",
        "from sklearn.preprocessing import MinMaxScaler\n",
        "from sklearn.model_selection import train_test_split\n",
        "from sklearn import model_selection\n",
        "from sklearn.model_selection import KFold\n",
        "from sklearn.metrics import r2_score\n",
        "from sklearn.metrics import mean_squared_error\n",
        "from sklearn.metrics import mean_absolute_error\n",
        "from sklearn.metrics import mean_absolute_percentage_error\n",
        "import statsmodels.api as sm\n",
        "import statsmodels.formula.api as smf\n",
        "import warnings\n",
        "warnings.filterwarnings('ignore')"
      ]
    },
    {
      "cell_type": "code",
      "execution_count": null,
      "metadata": {
        "id": "uvzs-8xwcZoF"
      },
      "outputs": [],
      "source": [
        "myntra_df= pd.read_csv(\"/content/drive/MyDrive/Colab Notebooks/Analytics Vidhya/Myntra Fasion Clothing.csv\")"
      ]
    },
    {
      "cell_type": "code",
      "execution_count": null,
      "metadata": {
        "colab": {
          "base_uri": "https://localhost:8080/",
          "height": 441
        },
        "id": "C5h0llV1jiDp",
        "outputId": "ccbcf3ac-db8d-45eb-9149-dbb73de8abd7"
      },
      "outputs": [
        {
          "output_type": "execute_result",
          "data": {
            "text/plain": [
              "                                                 URL  Product_id   BrandName  \\\n",
              "0  https://www.myntra.com/jeans/roadster/roadster...     2296012    Roadster   \n",
              "1  https://www.myntra.com/track-pants/locomotive/...    13780156  LOCOMOTIVE   \n",
              "2  https://www.myntra.com/shirts/roadster/roadste...    11895958    Roadster   \n",
              "3  https://www.myntra.com/shapewear/zivame/zivame...     4335679      Zivame   \n",
              "4  https://www.myntra.com/tshirts/roadster/roadst...    11690882    Roadster   \n",
              "\n",
              "                Category Individual_category category_by_Gender  \\\n",
              "0            Bottom Wear               jeans                Men   \n",
              "1            Bottom Wear         track-pants                Men   \n",
              "2                Topwear              shirts                Men   \n",
              "3  Lingerie & Sleep Wear           shapewear              Women   \n",
              "4                Western             tshirts              Women   \n",
              "\n",
              "                                         Description  DiscountPrice (in Rs)  \\\n",
              "0  roadster men navy blue slim fit mid rise clean...                  824.0   \n",
              "1  locomotive men black  white solid slim fit tra...                  517.0   \n",
              "2  roadster men navy white  black geometric print...                  629.0   \n",
              "3  zivame women black saree shapewear zi3023core0...                  893.0   \n",
              "4  roadster women white solid v neck pure cotton ...                    NaN   \n",
              "\n",
              "   OriginalPrice (in Rs) DiscountOffer              SizeOption  Ratings  \\\n",
              "0                 1499.0       45% OFF      28, 30, 32, 34, 36      3.9   \n",
              "1                 1149.0       55% OFF             S, M, L, XL      4.0   \n",
              "2                 1399.0       55% OFF  38, 40, 42, 44, 46, 48      4.3   \n",
              "3                 1295.0       31% OFF        S, M, L, XL, XXL      4.2   \n",
              "4                  599.0       35% OFF         XS, S, M, L, XL      4.2   \n",
              "\n",
              "   Reviews  \n",
              "0    999.0  \n",
              "1    999.0  \n",
              "2    999.0  \n",
              "3    999.0  \n",
              "4    999.0  "
            ],
            "text/html": [
              "\n",
              "  <div id=\"df-aab6570c-d89e-4767-9a75-dd05dfd7eb52\">\n",
              "    <div class=\"colab-df-container\">\n",
              "      <div>\n",
              "<style scoped>\n",
              "    .dataframe tbody tr th:only-of-type {\n",
              "        vertical-align: middle;\n",
              "    }\n",
              "\n",
              "    .dataframe tbody tr th {\n",
              "        vertical-align: top;\n",
              "    }\n",
              "\n",
              "    .dataframe thead th {\n",
              "        text-align: right;\n",
              "    }\n",
              "</style>\n",
              "<table border=\"1\" class=\"dataframe\">\n",
              "  <thead>\n",
              "    <tr style=\"text-align: right;\">\n",
              "      <th></th>\n",
              "      <th>URL</th>\n",
              "      <th>Product_id</th>\n",
              "      <th>BrandName</th>\n",
              "      <th>Category</th>\n",
              "      <th>Individual_category</th>\n",
              "      <th>category_by_Gender</th>\n",
              "      <th>Description</th>\n",
              "      <th>DiscountPrice (in Rs)</th>\n",
              "      <th>OriginalPrice (in Rs)</th>\n",
              "      <th>DiscountOffer</th>\n",
              "      <th>SizeOption</th>\n",
              "      <th>Ratings</th>\n",
              "      <th>Reviews</th>\n",
              "    </tr>\n",
              "  </thead>\n",
              "  <tbody>\n",
              "    <tr>\n",
              "      <th>0</th>\n",
              "      <td>https://www.myntra.com/jeans/roadster/roadster...</td>\n",
              "      <td>2296012</td>\n",
              "      <td>Roadster</td>\n",
              "      <td>Bottom Wear</td>\n",
              "      <td>jeans</td>\n",
              "      <td>Men</td>\n",
              "      <td>roadster men navy blue slim fit mid rise clean...</td>\n",
              "      <td>824.0</td>\n",
              "      <td>1499.0</td>\n",
              "      <td>45% OFF</td>\n",
              "      <td>28, 30, 32, 34, 36</td>\n",
              "      <td>3.9</td>\n",
              "      <td>999.0</td>\n",
              "    </tr>\n",
              "    <tr>\n",
              "      <th>1</th>\n",
              "      <td>https://www.myntra.com/track-pants/locomotive/...</td>\n",
              "      <td>13780156</td>\n",
              "      <td>LOCOMOTIVE</td>\n",
              "      <td>Bottom Wear</td>\n",
              "      <td>track-pants</td>\n",
              "      <td>Men</td>\n",
              "      <td>locomotive men black  white solid slim fit tra...</td>\n",
              "      <td>517.0</td>\n",
              "      <td>1149.0</td>\n",
              "      <td>55% OFF</td>\n",
              "      <td>S, M, L, XL</td>\n",
              "      <td>4.0</td>\n",
              "      <td>999.0</td>\n",
              "    </tr>\n",
              "    <tr>\n",
              "      <th>2</th>\n",
              "      <td>https://www.myntra.com/shirts/roadster/roadste...</td>\n",
              "      <td>11895958</td>\n",
              "      <td>Roadster</td>\n",
              "      <td>Topwear</td>\n",
              "      <td>shirts</td>\n",
              "      <td>Men</td>\n",
              "      <td>roadster men navy white  black geometric print...</td>\n",
              "      <td>629.0</td>\n",
              "      <td>1399.0</td>\n",
              "      <td>55% OFF</td>\n",
              "      <td>38, 40, 42, 44, 46, 48</td>\n",
              "      <td>4.3</td>\n",
              "      <td>999.0</td>\n",
              "    </tr>\n",
              "    <tr>\n",
              "      <th>3</th>\n",
              "      <td>https://www.myntra.com/shapewear/zivame/zivame...</td>\n",
              "      <td>4335679</td>\n",
              "      <td>Zivame</td>\n",
              "      <td>Lingerie &amp; Sleep Wear</td>\n",
              "      <td>shapewear</td>\n",
              "      <td>Women</td>\n",
              "      <td>zivame women black saree shapewear zi3023core0...</td>\n",
              "      <td>893.0</td>\n",
              "      <td>1295.0</td>\n",
              "      <td>31% OFF</td>\n",
              "      <td>S, M, L, XL, XXL</td>\n",
              "      <td>4.2</td>\n",
              "      <td>999.0</td>\n",
              "    </tr>\n",
              "    <tr>\n",
              "      <th>4</th>\n",
              "      <td>https://www.myntra.com/tshirts/roadster/roadst...</td>\n",
              "      <td>11690882</td>\n",
              "      <td>Roadster</td>\n",
              "      <td>Western</td>\n",
              "      <td>tshirts</td>\n",
              "      <td>Women</td>\n",
              "      <td>roadster women white solid v neck pure cotton ...</td>\n",
              "      <td>NaN</td>\n",
              "      <td>599.0</td>\n",
              "      <td>35% OFF</td>\n",
              "      <td>XS, S, M, L, XL</td>\n",
              "      <td>4.2</td>\n",
              "      <td>999.0</td>\n",
              "    </tr>\n",
              "  </tbody>\n",
              "</table>\n",
              "</div>\n",
              "      <button class=\"colab-df-convert\" onclick=\"convertToInteractive('df-aab6570c-d89e-4767-9a75-dd05dfd7eb52')\"\n",
              "              title=\"Convert this dataframe to an interactive table.\"\n",
              "              style=\"display:none;\">\n",
              "        \n",
              "  <svg xmlns=\"http://www.w3.org/2000/svg\" height=\"24px\"viewBox=\"0 0 24 24\"\n",
              "       width=\"24px\">\n",
              "    <path d=\"M0 0h24v24H0V0z\" fill=\"none\"/>\n",
              "    <path d=\"M18.56 5.44l.94 2.06.94-2.06 2.06-.94-2.06-.94-.94-2.06-.94 2.06-2.06.94zm-11 1L8.5 8.5l.94-2.06 2.06-.94-2.06-.94L8.5 2.5l-.94 2.06-2.06.94zm10 10l.94 2.06.94-2.06 2.06-.94-2.06-.94-.94-2.06-.94 2.06-2.06.94z\"/><path d=\"M17.41 7.96l-1.37-1.37c-.4-.4-.92-.59-1.43-.59-.52 0-1.04.2-1.43.59L10.3 9.45l-7.72 7.72c-.78.78-.78 2.05 0 2.83L4 21.41c.39.39.9.59 1.41.59.51 0 1.02-.2 1.41-.59l7.78-7.78 2.81-2.81c.8-.78.8-2.07 0-2.86zM5.41 20L4 18.59l7.72-7.72 1.47 1.35L5.41 20z\"/>\n",
              "  </svg>\n",
              "      </button>\n",
              "      \n",
              "  <style>\n",
              "    .colab-df-container {\n",
              "      display:flex;\n",
              "      flex-wrap:wrap;\n",
              "      gap: 12px;\n",
              "    }\n",
              "\n",
              "    .colab-df-convert {\n",
              "      background-color: #E8F0FE;\n",
              "      border: none;\n",
              "      border-radius: 50%;\n",
              "      cursor: pointer;\n",
              "      display: none;\n",
              "      fill: #1967D2;\n",
              "      height: 32px;\n",
              "      padding: 0 0 0 0;\n",
              "      width: 32px;\n",
              "    }\n",
              "\n",
              "    .colab-df-convert:hover {\n",
              "      background-color: #E2EBFA;\n",
              "      box-shadow: 0px 1px 2px rgba(60, 64, 67, 0.3), 0px 1px 3px 1px rgba(60, 64, 67, 0.15);\n",
              "      fill: #174EA6;\n",
              "    }\n",
              "\n",
              "    [theme=dark] .colab-df-convert {\n",
              "      background-color: #3B4455;\n",
              "      fill: #D2E3FC;\n",
              "    }\n",
              "\n",
              "    [theme=dark] .colab-df-convert:hover {\n",
              "      background-color: #434B5C;\n",
              "      box-shadow: 0px 1px 3px 1px rgba(0, 0, 0, 0.15);\n",
              "      filter: drop-shadow(0px 1px 2px rgba(0, 0, 0, 0.3));\n",
              "      fill: #FFFFFF;\n",
              "    }\n",
              "  </style>\n",
              "\n",
              "      <script>\n",
              "        const buttonEl =\n",
              "          document.querySelector('#df-aab6570c-d89e-4767-9a75-dd05dfd7eb52 button.colab-df-convert');\n",
              "        buttonEl.style.display =\n",
              "          google.colab.kernel.accessAllowed ? 'block' : 'none';\n",
              "\n",
              "        async function convertToInteractive(key) {\n",
              "          const element = document.querySelector('#df-aab6570c-d89e-4767-9a75-dd05dfd7eb52');\n",
              "          const dataTable =\n",
              "            await google.colab.kernel.invokeFunction('convertToInteractive',\n",
              "                                                     [key], {});\n",
              "          if (!dataTable) return;\n",
              "\n",
              "          const docLinkHtml = 'Like what you see? Visit the ' +\n",
              "            '<a target=\"_blank\" href=https://colab.research.google.com/notebooks/data_table.ipynb>data table notebook</a>'\n",
              "            + ' to learn more about interactive tables.';\n",
              "          element.innerHTML = '';\n",
              "          dataTable['output_type'] = 'display_data';\n",
              "          await google.colab.output.renderOutput(dataTable, element);\n",
              "          const docLink = document.createElement('div');\n",
              "          docLink.innerHTML = docLinkHtml;\n",
              "          element.appendChild(docLink);\n",
              "        }\n",
              "      </script>\n",
              "    </div>\n",
              "  </div>\n",
              "  "
            ]
          },
          "metadata": {},
          "execution_count": 36
        }
      ],
      "source": [
        "myntra_df.head(5)"
      ]
    },
    {
      "cell_type": "code",
      "execution_count": null,
      "metadata": {
        "colab": {
          "base_uri": "https://localhost:8080/",
          "height": 423
        },
        "id": "_KTNxtd4A8Mn",
        "outputId": "fdc84ec1-2b09-4a75-ed36-0e07fdacdbe5"
      },
      "outputs": [
        {
          "output_type": "execute_result",
          "data": {
            "text/plain": [
              "                                                      URL  Product_id  \\\n",
              "526559  https://www.myntra.com/sweaters/hm/hm-women-be...    16929990   \n",
              "526560  https://www.myntra.com/jackets/hm/hm-women-bla...    16026012   \n",
              "526561  https://www.myntra.com/dresses/250-designs/250...    17654114   \n",
              "526562  https://www.myntra.com/dresses/masaba/masaba-w...    12508700   \n",
              "526563  https://www.myntra.com/tshirts/jockey/jockey-w...    17856544   \n",
              "\n",
              "          BrandName Category Individual_category category_by_Gender  \\\n",
              "526559          H&M  Western            sweaters              Women   \n",
              "526560          H&M  Western             jackets              Women   \n",
              "526561  250 DESIGNS  Western             dresses              Women   \n",
              "526562       Masaba  Western             dresses              Women   \n",
              "526563       Jockey  Western             tshirts              Women   \n",
              "\n",
              "                                        Description  DiscountPrice (in Rs)  \\\n",
              "526559     hm women beige oversized cashmere jumper                    NaN   \n",
              "526560  hm women black water repellent parka jacket                    NaN   \n",
              "526561           250 designs blue lace sheath dress                    NaN   \n",
              "526562     masaba women yellow printed a line dress                    NaN   \n",
              "526563   jockey women blue extended sleeves t shirt                    NaN   \n",
              "\n",
              "        OriginalPrice (in Rs) DiscountOffer        SizeOption  Ratings  \\\n",
              "526559                 9999.0           NaN       XS, S, M, L      NaN   \n",
              "526560                 9999.0           NaN   XS, S, M, L, XL      NaN   \n",
              "526561                 9999.0           NaN  S, M, L, XL, XXL      NaN   \n",
              "526562                 9999.0           NaN   XS, S, M, L, XL      NaN   \n",
              "526563                  799.0           NaN           S, M, L      NaN   \n",
              "\n",
              "        Reviews  \n",
              "526559      NaN  \n",
              "526560      NaN  \n",
              "526561      NaN  \n",
              "526562      NaN  \n",
              "526563      NaN  "
            ],
            "text/html": [
              "\n",
              "  <div id=\"df-0b884f2e-8ebf-4722-8ad6-16b2f1eb2829\">\n",
              "    <div class=\"colab-df-container\">\n",
              "      <div>\n",
              "<style scoped>\n",
              "    .dataframe tbody tr th:only-of-type {\n",
              "        vertical-align: middle;\n",
              "    }\n",
              "\n",
              "    .dataframe tbody tr th {\n",
              "        vertical-align: top;\n",
              "    }\n",
              "\n",
              "    .dataframe thead th {\n",
              "        text-align: right;\n",
              "    }\n",
              "</style>\n",
              "<table border=\"1\" class=\"dataframe\">\n",
              "  <thead>\n",
              "    <tr style=\"text-align: right;\">\n",
              "      <th></th>\n",
              "      <th>URL</th>\n",
              "      <th>Product_id</th>\n",
              "      <th>BrandName</th>\n",
              "      <th>Category</th>\n",
              "      <th>Individual_category</th>\n",
              "      <th>category_by_Gender</th>\n",
              "      <th>Description</th>\n",
              "      <th>DiscountPrice (in Rs)</th>\n",
              "      <th>OriginalPrice (in Rs)</th>\n",
              "      <th>DiscountOffer</th>\n",
              "      <th>SizeOption</th>\n",
              "      <th>Ratings</th>\n",
              "      <th>Reviews</th>\n",
              "    </tr>\n",
              "  </thead>\n",
              "  <tbody>\n",
              "    <tr>\n",
              "      <th>526559</th>\n",
              "      <td>https://www.myntra.com/sweaters/hm/hm-women-be...</td>\n",
              "      <td>16929990</td>\n",
              "      <td>H&amp;M</td>\n",
              "      <td>Western</td>\n",
              "      <td>sweaters</td>\n",
              "      <td>Women</td>\n",
              "      <td>hm women beige oversized cashmere jumper</td>\n",
              "      <td>NaN</td>\n",
              "      <td>9999.0</td>\n",
              "      <td>NaN</td>\n",
              "      <td>XS, S, M, L</td>\n",
              "      <td>NaN</td>\n",
              "      <td>NaN</td>\n",
              "    </tr>\n",
              "    <tr>\n",
              "      <th>526560</th>\n",
              "      <td>https://www.myntra.com/jackets/hm/hm-women-bla...</td>\n",
              "      <td>16026012</td>\n",
              "      <td>H&amp;M</td>\n",
              "      <td>Western</td>\n",
              "      <td>jackets</td>\n",
              "      <td>Women</td>\n",
              "      <td>hm women black water repellent parka jacket</td>\n",
              "      <td>NaN</td>\n",
              "      <td>9999.0</td>\n",
              "      <td>NaN</td>\n",
              "      <td>XS, S, M, L, XL</td>\n",
              "      <td>NaN</td>\n",
              "      <td>NaN</td>\n",
              "    </tr>\n",
              "    <tr>\n",
              "      <th>526561</th>\n",
              "      <td>https://www.myntra.com/dresses/250-designs/250...</td>\n",
              "      <td>17654114</td>\n",
              "      <td>250 DESIGNS</td>\n",
              "      <td>Western</td>\n",
              "      <td>dresses</td>\n",
              "      <td>Women</td>\n",
              "      <td>250 designs blue lace sheath dress</td>\n",
              "      <td>NaN</td>\n",
              "      <td>9999.0</td>\n",
              "      <td>NaN</td>\n",
              "      <td>S, M, L, XL, XXL</td>\n",
              "      <td>NaN</td>\n",
              "      <td>NaN</td>\n",
              "    </tr>\n",
              "    <tr>\n",
              "      <th>526562</th>\n",
              "      <td>https://www.myntra.com/dresses/masaba/masaba-w...</td>\n",
              "      <td>12508700</td>\n",
              "      <td>Masaba</td>\n",
              "      <td>Western</td>\n",
              "      <td>dresses</td>\n",
              "      <td>Women</td>\n",
              "      <td>masaba women yellow printed a line dress</td>\n",
              "      <td>NaN</td>\n",
              "      <td>9999.0</td>\n",
              "      <td>NaN</td>\n",
              "      <td>XS, S, M, L, XL</td>\n",
              "      <td>NaN</td>\n",
              "      <td>NaN</td>\n",
              "    </tr>\n",
              "    <tr>\n",
              "      <th>526563</th>\n",
              "      <td>https://www.myntra.com/tshirts/jockey/jockey-w...</td>\n",
              "      <td>17856544</td>\n",
              "      <td>Jockey</td>\n",
              "      <td>Western</td>\n",
              "      <td>tshirts</td>\n",
              "      <td>Women</td>\n",
              "      <td>jockey women blue extended sleeves t shirt</td>\n",
              "      <td>NaN</td>\n",
              "      <td>799.0</td>\n",
              "      <td>NaN</td>\n",
              "      <td>S, M, L</td>\n",
              "      <td>NaN</td>\n",
              "      <td>NaN</td>\n",
              "    </tr>\n",
              "  </tbody>\n",
              "</table>\n",
              "</div>\n",
              "      <button class=\"colab-df-convert\" onclick=\"convertToInteractive('df-0b884f2e-8ebf-4722-8ad6-16b2f1eb2829')\"\n",
              "              title=\"Convert this dataframe to an interactive table.\"\n",
              "              style=\"display:none;\">\n",
              "        \n",
              "  <svg xmlns=\"http://www.w3.org/2000/svg\" height=\"24px\"viewBox=\"0 0 24 24\"\n",
              "       width=\"24px\">\n",
              "    <path d=\"M0 0h24v24H0V0z\" fill=\"none\"/>\n",
              "    <path d=\"M18.56 5.44l.94 2.06.94-2.06 2.06-.94-2.06-.94-.94-2.06-.94 2.06-2.06.94zm-11 1L8.5 8.5l.94-2.06 2.06-.94-2.06-.94L8.5 2.5l-.94 2.06-2.06.94zm10 10l.94 2.06.94-2.06 2.06-.94-2.06-.94-.94-2.06-.94 2.06-2.06.94z\"/><path d=\"M17.41 7.96l-1.37-1.37c-.4-.4-.92-.59-1.43-.59-.52 0-1.04.2-1.43.59L10.3 9.45l-7.72 7.72c-.78.78-.78 2.05 0 2.83L4 21.41c.39.39.9.59 1.41.59.51 0 1.02-.2 1.41-.59l7.78-7.78 2.81-2.81c.8-.78.8-2.07 0-2.86zM5.41 20L4 18.59l7.72-7.72 1.47 1.35L5.41 20z\"/>\n",
              "  </svg>\n",
              "      </button>\n",
              "      \n",
              "  <style>\n",
              "    .colab-df-container {\n",
              "      display:flex;\n",
              "      flex-wrap:wrap;\n",
              "      gap: 12px;\n",
              "    }\n",
              "\n",
              "    .colab-df-convert {\n",
              "      background-color: #E8F0FE;\n",
              "      border: none;\n",
              "      border-radius: 50%;\n",
              "      cursor: pointer;\n",
              "      display: none;\n",
              "      fill: #1967D2;\n",
              "      height: 32px;\n",
              "      padding: 0 0 0 0;\n",
              "      width: 32px;\n",
              "    }\n",
              "\n",
              "    .colab-df-convert:hover {\n",
              "      background-color: #E2EBFA;\n",
              "      box-shadow: 0px 1px 2px rgba(60, 64, 67, 0.3), 0px 1px 3px 1px rgba(60, 64, 67, 0.15);\n",
              "      fill: #174EA6;\n",
              "    }\n",
              "\n",
              "    [theme=dark] .colab-df-convert {\n",
              "      background-color: #3B4455;\n",
              "      fill: #D2E3FC;\n",
              "    }\n",
              "\n",
              "    [theme=dark] .colab-df-convert:hover {\n",
              "      background-color: #434B5C;\n",
              "      box-shadow: 0px 1px 3px 1px rgba(0, 0, 0, 0.15);\n",
              "      filter: drop-shadow(0px 1px 2px rgba(0, 0, 0, 0.3));\n",
              "      fill: #FFFFFF;\n",
              "    }\n",
              "  </style>\n",
              "\n",
              "      <script>\n",
              "        const buttonEl =\n",
              "          document.querySelector('#df-0b884f2e-8ebf-4722-8ad6-16b2f1eb2829 button.colab-df-convert');\n",
              "        buttonEl.style.display =\n",
              "          google.colab.kernel.accessAllowed ? 'block' : 'none';\n",
              "\n",
              "        async function convertToInteractive(key) {\n",
              "          const element = document.querySelector('#df-0b884f2e-8ebf-4722-8ad6-16b2f1eb2829');\n",
              "          const dataTable =\n",
              "            await google.colab.kernel.invokeFunction('convertToInteractive',\n",
              "                                                     [key], {});\n",
              "          if (!dataTable) return;\n",
              "\n",
              "          const docLinkHtml = 'Like what you see? Visit the ' +\n",
              "            '<a target=\"_blank\" href=https://colab.research.google.com/notebooks/data_table.ipynb>data table notebook</a>'\n",
              "            + ' to learn more about interactive tables.';\n",
              "          element.innerHTML = '';\n",
              "          dataTable['output_type'] = 'display_data';\n",
              "          await google.colab.output.renderOutput(dataTable, element);\n",
              "          const docLink = document.createElement('div');\n",
              "          docLink.innerHTML = docLinkHtml;\n",
              "          element.appendChild(docLink);\n",
              "        }\n",
              "      </script>\n",
              "    </div>\n",
              "  </div>\n",
              "  "
            ]
          },
          "metadata": {},
          "execution_count": 37
        }
      ],
      "source": [
        "myntra_df.tail(5)"
      ]
    },
    {
      "cell_type": "code",
      "execution_count": null,
      "metadata": {
        "colab": {
          "base_uri": "https://localhost:8080/"
        },
        "id": "gTIb8KMzQ5xl",
        "outputId": "64b6c89a-4e4e-4a26-c1c9-baf0d9ebbb7a"
      },
      "outputs": [
        {
          "output_type": "execute_result",
          "data": {
            "text/plain": [
              "(526564, 13)"
            ]
          },
          "metadata": {},
          "execution_count": 38
        }
      ],
      "source": [
        "myntra_df.shape"
      ]
    },
    {
      "cell_type": "code",
      "execution_count": null,
      "metadata": {
        "colab": {
          "base_uri": "https://localhost:8080/",
          "height": 507
        },
        "id": "ROCA5sn1Rgi3",
        "outputId": "138ab13f-437a-4fc7-dc0e-311fa8072282"
      },
      "outputs": [
        {
          "output_type": "execute_result",
          "data": {
            "text/plain": [
              "                                                      URL    Product_id  \\\n",
              "count                                              526564  5.265640e+05   \n",
              "unique                                             526564           NaN   \n",
              "top     https://www.myntra.com/jeans/roadster/roadster...           NaN   \n",
              "freq                                                    1           NaN   \n",
              "mean                                                  NaN  1.506939e+07   \n",
              "std                                                   NaN  3.225710e+06   \n",
              "min                                                   NaN  2.739900e+04   \n",
              "25%                                                   NaN  1.388053e+07   \n",
              "50%                                                   NaN  1.597106e+07   \n",
              "75%                                                   NaN  1.734741e+07   \n",
              "max                                                   NaN  1.846435e+07   \n",
              "\n",
              "       BrandName     Category Individual_category category_by_Gender  \\\n",
              "count     526564       526564              526564             526564   \n",
              "unique      2088            8                  92                  2   \n",
              "top       Pothys  Indian Wear             tshirts              Women   \n",
              "freq       16005       145845               61198             339185   \n",
              "mean         NaN          NaN                 NaN                NaN   \n",
              "std          NaN          NaN                 NaN                NaN   \n",
              "min          NaN          NaN                 NaN                NaN   \n",
              "25%          NaN          NaN                 NaN                NaN   \n",
              "50%          NaN          NaN                 NaN                NaN   \n",
              "75%          NaN          NaN                 NaN                NaN   \n",
              "max          NaN          NaN                 NaN                NaN   \n",
              "\n",
              "                                              Description  \\\n",
              "count                                              526564   \n",
              "unique                                             429766   \n",
              "top     kanvin women pack of 2 printed pure cotton lou...   \n",
              "freq                                                  546   \n",
              "mean                                                  NaN   \n",
              "std                                                   NaN   \n",
              "min                                                   NaN   \n",
              "25%                                                   NaN   \n",
              "50%                                                   NaN   \n",
              "75%                                                   NaN   \n",
              "max                                                   NaN   \n",
              "\n",
              "        DiscountPrice (in Rs)  OriginalPrice (in Rs) DiscountOffer  \\\n",
              "count           333406.000000          526564.000000        452258   \n",
              "unique                    NaN                    NaN          1418   \n",
              "top                       NaN                    NaN       50% OFF   \n",
              "freq                      NaN                    NaN         52737   \n",
              "mean              1237.444401            2414.068615           NaN   \n",
              "std               1052.063517            1916.962914           NaN   \n",
              "min                127.000000              99.000000           NaN   \n",
              "25%                659.000000            1299.000000           NaN   \n",
              "50%                952.000000            1999.000000           NaN   \n",
              "75%               1469.000000            2899.000000           NaN   \n",
              "max              27996.000000           90000.000000           NaN   \n",
              "\n",
              "              SizeOption        Ratings        Reviews  \n",
              "count             526564  190412.000000  190412.000000  \n",
              "unique              3588            NaN            NaN  \n",
              "top     S, M, L, XL, XXL            NaN            NaN  \n",
              "freq               84643            NaN            NaN  \n",
              "mean                 NaN       4.094892      61.990820  \n",
              "std                  NaN       0.494158     125.714537  \n",
              "min                  NaN       1.000000       0.000000  \n",
              "25%                  NaN       3.900000       8.000000  \n",
              "50%                  NaN       4.200000      18.000000  \n",
              "75%                  NaN       4.400000      52.000000  \n",
              "max                  NaN       5.000000     999.000000  "
            ],
            "text/html": [
              "\n",
              "  <div id=\"df-b7870587-7a52-4711-bcfe-eeef15666146\">\n",
              "    <div class=\"colab-df-container\">\n",
              "      <div>\n",
              "<style scoped>\n",
              "    .dataframe tbody tr th:only-of-type {\n",
              "        vertical-align: middle;\n",
              "    }\n",
              "\n",
              "    .dataframe tbody tr th {\n",
              "        vertical-align: top;\n",
              "    }\n",
              "\n",
              "    .dataframe thead th {\n",
              "        text-align: right;\n",
              "    }\n",
              "</style>\n",
              "<table border=\"1\" class=\"dataframe\">\n",
              "  <thead>\n",
              "    <tr style=\"text-align: right;\">\n",
              "      <th></th>\n",
              "      <th>URL</th>\n",
              "      <th>Product_id</th>\n",
              "      <th>BrandName</th>\n",
              "      <th>Category</th>\n",
              "      <th>Individual_category</th>\n",
              "      <th>category_by_Gender</th>\n",
              "      <th>Description</th>\n",
              "      <th>DiscountPrice (in Rs)</th>\n",
              "      <th>OriginalPrice (in Rs)</th>\n",
              "      <th>DiscountOffer</th>\n",
              "      <th>SizeOption</th>\n",
              "      <th>Ratings</th>\n",
              "      <th>Reviews</th>\n",
              "    </tr>\n",
              "  </thead>\n",
              "  <tbody>\n",
              "    <tr>\n",
              "      <th>count</th>\n",
              "      <td>526564</td>\n",
              "      <td>5.265640e+05</td>\n",
              "      <td>526564</td>\n",
              "      <td>526564</td>\n",
              "      <td>526564</td>\n",
              "      <td>526564</td>\n",
              "      <td>526564</td>\n",
              "      <td>333406.000000</td>\n",
              "      <td>526564.000000</td>\n",
              "      <td>452258</td>\n",
              "      <td>526564</td>\n",
              "      <td>190412.000000</td>\n",
              "      <td>190412.000000</td>\n",
              "    </tr>\n",
              "    <tr>\n",
              "      <th>unique</th>\n",
              "      <td>526564</td>\n",
              "      <td>NaN</td>\n",
              "      <td>2088</td>\n",
              "      <td>8</td>\n",
              "      <td>92</td>\n",
              "      <td>2</td>\n",
              "      <td>429766</td>\n",
              "      <td>NaN</td>\n",
              "      <td>NaN</td>\n",
              "      <td>1418</td>\n",
              "      <td>3588</td>\n",
              "      <td>NaN</td>\n",
              "      <td>NaN</td>\n",
              "    </tr>\n",
              "    <tr>\n",
              "      <th>top</th>\n",
              "      <td>https://www.myntra.com/jeans/roadster/roadster...</td>\n",
              "      <td>NaN</td>\n",
              "      <td>Pothys</td>\n",
              "      <td>Indian Wear</td>\n",
              "      <td>tshirts</td>\n",
              "      <td>Women</td>\n",
              "      <td>kanvin women pack of 2 printed pure cotton lou...</td>\n",
              "      <td>NaN</td>\n",
              "      <td>NaN</td>\n",
              "      <td>50% OFF</td>\n",
              "      <td>S, M, L, XL, XXL</td>\n",
              "      <td>NaN</td>\n",
              "      <td>NaN</td>\n",
              "    </tr>\n",
              "    <tr>\n",
              "      <th>freq</th>\n",
              "      <td>1</td>\n",
              "      <td>NaN</td>\n",
              "      <td>16005</td>\n",
              "      <td>145845</td>\n",
              "      <td>61198</td>\n",
              "      <td>339185</td>\n",
              "      <td>546</td>\n",
              "      <td>NaN</td>\n",
              "      <td>NaN</td>\n",
              "      <td>52737</td>\n",
              "      <td>84643</td>\n",
              "      <td>NaN</td>\n",
              "      <td>NaN</td>\n",
              "    </tr>\n",
              "    <tr>\n",
              "      <th>mean</th>\n",
              "      <td>NaN</td>\n",
              "      <td>1.506939e+07</td>\n",
              "      <td>NaN</td>\n",
              "      <td>NaN</td>\n",
              "      <td>NaN</td>\n",
              "      <td>NaN</td>\n",
              "      <td>NaN</td>\n",
              "      <td>1237.444401</td>\n",
              "      <td>2414.068615</td>\n",
              "      <td>NaN</td>\n",
              "      <td>NaN</td>\n",
              "      <td>4.094892</td>\n",
              "      <td>61.990820</td>\n",
              "    </tr>\n",
              "    <tr>\n",
              "      <th>std</th>\n",
              "      <td>NaN</td>\n",
              "      <td>3.225710e+06</td>\n",
              "      <td>NaN</td>\n",
              "      <td>NaN</td>\n",
              "      <td>NaN</td>\n",
              "      <td>NaN</td>\n",
              "      <td>NaN</td>\n",
              "      <td>1052.063517</td>\n",
              "      <td>1916.962914</td>\n",
              "      <td>NaN</td>\n",
              "      <td>NaN</td>\n",
              "      <td>0.494158</td>\n",
              "      <td>125.714537</td>\n",
              "    </tr>\n",
              "    <tr>\n",
              "      <th>min</th>\n",
              "      <td>NaN</td>\n",
              "      <td>2.739900e+04</td>\n",
              "      <td>NaN</td>\n",
              "      <td>NaN</td>\n",
              "      <td>NaN</td>\n",
              "      <td>NaN</td>\n",
              "      <td>NaN</td>\n",
              "      <td>127.000000</td>\n",
              "      <td>99.000000</td>\n",
              "      <td>NaN</td>\n",
              "      <td>NaN</td>\n",
              "      <td>1.000000</td>\n",
              "      <td>0.000000</td>\n",
              "    </tr>\n",
              "    <tr>\n",
              "      <th>25%</th>\n",
              "      <td>NaN</td>\n",
              "      <td>1.388053e+07</td>\n",
              "      <td>NaN</td>\n",
              "      <td>NaN</td>\n",
              "      <td>NaN</td>\n",
              "      <td>NaN</td>\n",
              "      <td>NaN</td>\n",
              "      <td>659.000000</td>\n",
              "      <td>1299.000000</td>\n",
              "      <td>NaN</td>\n",
              "      <td>NaN</td>\n",
              "      <td>3.900000</td>\n",
              "      <td>8.000000</td>\n",
              "    </tr>\n",
              "    <tr>\n",
              "      <th>50%</th>\n",
              "      <td>NaN</td>\n",
              "      <td>1.597106e+07</td>\n",
              "      <td>NaN</td>\n",
              "      <td>NaN</td>\n",
              "      <td>NaN</td>\n",
              "      <td>NaN</td>\n",
              "      <td>NaN</td>\n",
              "      <td>952.000000</td>\n",
              "      <td>1999.000000</td>\n",
              "      <td>NaN</td>\n",
              "      <td>NaN</td>\n",
              "      <td>4.200000</td>\n",
              "      <td>18.000000</td>\n",
              "    </tr>\n",
              "    <tr>\n",
              "      <th>75%</th>\n",
              "      <td>NaN</td>\n",
              "      <td>1.734741e+07</td>\n",
              "      <td>NaN</td>\n",
              "      <td>NaN</td>\n",
              "      <td>NaN</td>\n",
              "      <td>NaN</td>\n",
              "      <td>NaN</td>\n",
              "      <td>1469.000000</td>\n",
              "      <td>2899.000000</td>\n",
              "      <td>NaN</td>\n",
              "      <td>NaN</td>\n",
              "      <td>4.400000</td>\n",
              "      <td>52.000000</td>\n",
              "    </tr>\n",
              "    <tr>\n",
              "      <th>max</th>\n",
              "      <td>NaN</td>\n",
              "      <td>1.846435e+07</td>\n",
              "      <td>NaN</td>\n",
              "      <td>NaN</td>\n",
              "      <td>NaN</td>\n",
              "      <td>NaN</td>\n",
              "      <td>NaN</td>\n",
              "      <td>27996.000000</td>\n",
              "      <td>90000.000000</td>\n",
              "      <td>NaN</td>\n",
              "      <td>NaN</td>\n",
              "      <td>5.000000</td>\n",
              "      <td>999.000000</td>\n",
              "    </tr>\n",
              "  </tbody>\n",
              "</table>\n",
              "</div>\n",
              "      <button class=\"colab-df-convert\" onclick=\"convertToInteractive('df-b7870587-7a52-4711-bcfe-eeef15666146')\"\n",
              "              title=\"Convert this dataframe to an interactive table.\"\n",
              "              style=\"display:none;\">\n",
              "        \n",
              "  <svg xmlns=\"http://www.w3.org/2000/svg\" height=\"24px\"viewBox=\"0 0 24 24\"\n",
              "       width=\"24px\">\n",
              "    <path d=\"M0 0h24v24H0V0z\" fill=\"none\"/>\n",
              "    <path d=\"M18.56 5.44l.94 2.06.94-2.06 2.06-.94-2.06-.94-.94-2.06-.94 2.06-2.06.94zm-11 1L8.5 8.5l.94-2.06 2.06-.94-2.06-.94L8.5 2.5l-.94 2.06-2.06.94zm10 10l.94 2.06.94-2.06 2.06-.94-2.06-.94-.94-2.06-.94 2.06-2.06.94z\"/><path d=\"M17.41 7.96l-1.37-1.37c-.4-.4-.92-.59-1.43-.59-.52 0-1.04.2-1.43.59L10.3 9.45l-7.72 7.72c-.78.78-.78 2.05 0 2.83L4 21.41c.39.39.9.59 1.41.59.51 0 1.02-.2 1.41-.59l7.78-7.78 2.81-2.81c.8-.78.8-2.07 0-2.86zM5.41 20L4 18.59l7.72-7.72 1.47 1.35L5.41 20z\"/>\n",
              "  </svg>\n",
              "      </button>\n",
              "      \n",
              "  <style>\n",
              "    .colab-df-container {\n",
              "      display:flex;\n",
              "      flex-wrap:wrap;\n",
              "      gap: 12px;\n",
              "    }\n",
              "\n",
              "    .colab-df-convert {\n",
              "      background-color: #E8F0FE;\n",
              "      border: none;\n",
              "      border-radius: 50%;\n",
              "      cursor: pointer;\n",
              "      display: none;\n",
              "      fill: #1967D2;\n",
              "      height: 32px;\n",
              "      padding: 0 0 0 0;\n",
              "      width: 32px;\n",
              "    }\n",
              "\n",
              "    .colab-df-convert:hover {\n",
              "      background-color: #E2EBFA;\n",
              "      box-shadow: 0px 1px 2px rgba(60, 64, 67, 0.3), 0px 1px 3px 1px rgba(60, 64, 67, 0.15);\n",
              "      fill: #174EA6;\n",
              "    }\n",
              "\n",
              "    [theme=dark] .colab-df-convert {\n",
              "      background-color: #3B4455;\n",
              "      fill: #D2E3FC;\n",
              "    }\n",
              "\n",
              "    [theme=dark] .colab-df-convert:hover {\n",
              "      background-color: #434B5C;\n",
              "      box-shadow: 0px 1px 3px 1px rgba(0, 0, 0, 0.15);\n",
              "      filter: drop-shadow(0px 1px 2px rgba(0, 0, 0, 0.3));\n",
              "      fill: #FFFFFF;\n",
              "    }\n",
              "  </style>\n",
              "\n",
              "      <script>\n",
              "        const buttonEl =\n",
              "          document.querySelector('#df-b7870587-7a52-4711-bcfe-eeef15666146 button.colab-df-convert');\n",
              "        buttonEl.style.display =\n",
              "          google.colab.kernel.accessAllowed ? 'block' : 'none';\n",
              "\n",
              "        async function convertToInteractive(key) {\n",
              "          const element = document.querySelector('#df-b7870587-7a52-4711-bcfe-eeef15666146');\n",
              "          const dataTable =\n",
              "            await google.colab.kernel.invokeFunction('convertToInteractive',\n",
              "                                                     [key], {});\n",
              "          if (!dataTable) return;\n",
              "\n",
              "          const docLinkHtml = 'Like what you see? Visit the ' +\n",
              "            '<a target=\"_blank\" href=https://colab.research.google.com/notebooks/data_table.ipynb>data table notebook</a>'\n",
              "            + ' to learn more about interactive tables.';\n",
              "          element.innerHTML = '';\n",
              "          dataTable['output_type'] = 'display_data';\n",
              "          await google.colab.output.renderOutput(dataTable, element);\n",
              "          const docLink = document.createElement('div');\n",
              "          docLink.innerHTML = docLinkHtml;\n",
              "          element.appendChild(docLink);\n",
              "        }\n",
              "      </script>\n",
              "    </div>\n",
              "  </div>\n",
              "  "
            ]
          },
          "metadata": {},
          "execution_count": 39
        }
      ],
      "source": [
        "myntra_df.describe(include=\"all\")"
      ]
    },
    {
      "cell_type": "code",
      "execution_count": null,
      "metadata": {
        "colab": {
          "base_uri": "https://localhost:8080/"
        },
        "id": "Ytehn0wM0Kx3",
        "outputId": "25fa4312-b3d9-411d-e0fa-db908beb1f80"
      },
      "outputs": [
        {
          "output_type": "stream",
          "name": "stdout",
          "text": [
            "<class 'pandas.core.frame.DataFrame'>\n",
            "RangeIndex: 526564 entries, 0 to 526563\n",
            "Data columns (total 13 columns):\n",
            " #   Column                 Non-Null Count   Dtype  \n",
            "---  ------                 --------------   -----  \n",
            " 0   URL                    526564 non-null  object \n",
            " 1   Product_id             526564 non-null  int64  \n",
            " 2   BrandName              526564 non-null  object \n",
            " 3   Category               526564 non-null  object \n",
            " 4   Individual_category    526564 non-null  object \n",
            " 5   category_by_Gender     526564 non-null  object \n",
            " 6   Description            526564 non-null  object \n",
            " 7   DiscountPrice (in Rs)  333406 non-null  float64\n",
            " 8   OriginalPrice (in Rs)  526564 non-null  float64\n",
            " 9   DiscountOffer          452258 non-null  object \n",
            " 10  SizeOption             526564 non-null  object \n",
            " 11  Ratings                190412 non-null  float64\n",
            " 12  Reviews                190412 non-null  float64\n",
            "dtypes: float64(4), int64(1), object(8)\n",
            "memory usage: 52.2+ MB\n"
          ]
        }
      ],
      "source": [
        "myntra_df.info()"
      ]
    },
    {
      "cell_type": "code",
      "execution_count": null,
      "metadata": {
        "colab": {
          "base_uri": "https://localhost:8080/",
          "height": 49
        },
        "id": "C5quGvwUBIXX",
        "outputId": "8bbd50af-47f9-489a-c02f-391a159f192c"
      },
      "outputs": [
        {
          "output_type": "execute_result",
          "data": {
            "text/plain": [
              "Empty DataFrame\n",
              "Columns: [URL, Product_id, BrandName, Category, Individual_category, category_by_Gender, Description, DiscountPrice (in Rs), OriginalPrice (in Rs), DiscountOffer, SizeOption, Ratings, Reviews]\n",
              "Index: []"
            ],
            "text/html": [
              "\n",
              "  <div id=\"df-c4e311cf-7bda-4fbe-a4a7-36b868f6e229\">\n",
              "    <div class=\"colab-df-container\">\n",
              "      <div>\n",
              "<style scoped>\n",
              "    .dataframe tbody tr th:only-of-type {\n",
              "        vertical-align: middle;\n",
              "    }\n",
              "\n",
              "    .dataframe tbody tr th {\n",
              "        vertical-align: top;\n",
              "    }\n",
              "\n",
              "    .dataframe thead th {\n",
              "        text-align: right;\n",
              "    }\n",
              "</style>\n",
              "<table border=\"1\" class=\"dataframe\">\n",
              "  <thead>\n",
              "    <tr style=\"text-align: right;\">\n",
              "      <th></th>\n",
              "      <th>URL</th>\n",
              "      <th>Product_id</th>\n",
              "      <th>BrandName</th>\n",
              "      <th>Category</th>\n",
              "      <th>Individual_category</th>\n",
              "      <th>category_by_Gender</th>\n",
              "      <th>Description</th>\n",
              "      <th>DiscountPrice (in Rs)</th>\n",
              "      <th>OriginalPrice (in Rs)</th>\n",
              "      <th>DiscountOffer</th>\n",
              "      <th>SizeOption</th>\n",
              "      <th>Ratings</th>\n",
              "      <th>Reviews</th>\n",
              "    </tr>\n",
              "  </thead>\n",
              "  <tbody>\n",
              "  </tbody>\n",
              "</table>\n",
              "</div>\n",
              "      <button class=\"colab-df-convert\" onclick=\"convertToInteractive('df-c4e311cf-7bda-4fbe-a4a7-36b868f6e229')\"\n",
              "              title=\"Convert this dataframe to an interactive table.\"\n",
              "              style=\"display:none;\">\n",
              "        \n",
              "  <svg xmlns=\"http://www.w3.org/2000/svg\" height=\"24px\"viewBox=\"0 0 24 24\"\n",
              "       width=\"24px\">\n",
              "    <path d=\"M0 0h24v24H0V0z\" fill=\"none\"/>\n",
              "    <path d=\"M18.56 5.44l.94 2.06.94-2.06 2.06-.94-2.06-.94-.94-2.06-.94 2.06-2.06.94zm-11 1L8.5 8.5l.94-2.06 2.06-.94-2.06-.94L8.5 2.5l-.94 2.06-2.06.94zm10 10l.94 2.06.94-2.06 2.06-.94-2.06-.94-.94-2.06-.94 2.06-2.06.94z\"/><path d=\"M17.41 7.96l-1.37-1.37c-.4-.4-.92-.59-1.43-.59-.52 0-1.04.2-1.43.59L10.3 9.45l-7.72 7.72c-.78.78-.78 2.05 0 2.83L4 21.41c.39.39.9.59 1.41.59.51 0 1.02-.2 1.41-.59l7.78-7.78 2.81-2.81c.8-.78.8-2.07 0-2.86zM5.41 20L4 18.59l7.72-7.72 1.47 1.35L5.41 20z\"/>\n",
              "  </svg>\n",
              "      </button>\n",
              "      \n",
              "  <style>\n",
              "    .colab-df-container {\n",
              "      display:flex;\n",
              "      flex-wrap:wrap;\n",
              "      gap: 12px;\n",
              "    }\n",
              "\n",
              "    .colab-df-convert {\n",
              "      background-color: #E8F0FE;\n",
              "      border: none;\n",
              "      border-radius: 50%;\n",
              "      cursor: pointer;\n",
              "      display: none;\n",
              "      fill: #1967D2;\n",
              "      height: 32px;\n",
              "      padding: 0 0 0 0;\n",
              "      width: 32px;\n",
              "    }\n",
              "\n",
              "    .colab-df-convert:hover {\n",
              "      background-color: #E2EBFA;\n",
              "      box-shadow: 0px 1px 2px rgba(60, 64, 67, 0.3), 0px 1px 3px 1px rgba(60, 64, 67, 0.15);\n",
              "      fill: #174EA6;\n",
              "    }\n",
              "\n",
              "    [theme=dark] .colab-df-convert {\n",
              "      background-color: #3B4455;\n",
              "      fill: #D2E3FC;\n",
              "    }\n",
              "\n",
              "    [theme=dark] .colab-df-convert:hover {\n",
              "      background-color: #434B5C;\n",
              "      box-shadow: 0px 1px 3px 1px rgba(0, 0, 0, 0.15);\n",
              "      filter: drop-shadow(0px 1px 2px rgba(0, 0, 0, 0.3));\n",
              "      fill: #FFFFFF;\n",
              "    }\n",
              "  </style>\n",
              "\n",
              "      <script>\n",
              "        const buttonEl =\n",
              "          document.querySelector('#df-c4e311cf-7bda-4fbe-a4a7-36b868f6e229 button.colab-df-convert');\n",
              "        buttonEl.style.display =\n",
              "          google.colab.kernel.accessAllowed ? 'block' : 'none';\n",
              "\n",
              "        async function convertToInteractive(key) {\n",
              "          const element = document.querySelector('#df-c4e311cf-7bda-4fbe-a4a7-36b868f6e229');\n",
              "          const dataTable =\n",
              "            await google.colab.kernel.invokeFunction('convertToInteractive',\n",
              "                                                     [key], {});\n",
              "          if (!dataTable) return;\n",
              "\n",
              "          const docLinkHtml = 'Like what you see? Visit the ' +\n",
              "            '<a target=\"_blank\" href=https://colab.research.google.com/notebooks/data_table.ipynb>data table notebook</a>'\n",
              "            + ' to learn more about interactive tables.';\n",
              "          element.innerHTML = '';\n",
              "          dataTable['output_type'] = 'display_data';\n",
              "          await google.colab.output.renderOutput(dataTable, element);\n",
              "          const docLink = document.createElement('div');\n",
              "          docLink.innerHTML = docLinkHtml;\n",
              "          element.appendChild(docLink);\n",
              "        }\n",
              "      </script>\n",
              "    </div>\n",
              "  </div>\n",
              "  "
            ]
          },
          "metadata": {},
          "execution_count": 41
        }
      ],
      "source": [
        "duplicate = myntra_df[myntra_df.duplicated()]\n",
        "duplicate"
      ]
    },
    {
      "cell_type": "code",
      "execution_count": null,
      "metadata": {
        "colab": {
          "base_uri": "https://localhost:8080/"
        },
        "id": "DZLUrQsckRBl",
        "outputId": "58a1ddcf-fbfa-40f3-d197-566f7babaeef"
      },
      "outputs": [
        {
          "output_type": "execute_result",
          "data": {
            "text/plain": [
              "URL                           0\n",
              "Product_id                    0\n",
              "BrandName                     0\n",
              "Category                      0\n",
              "Individual_category           0\n",
              "category_by_Gender            0\n",
              "Description                   0\n",
              "DiscountPrice (in Rs)    193158\n",
              "OriginalPrice (in Rs)         0\n",
              "DiscountOffer             74306\n",
              "SizeOption                    0\n",
              "Ratings                  336152\n",
              "Reviews                  336152\n",
              "dtype: int64"
            ]
          },
          "metadata": {},
          "execution_count": 42
        }
      ],
      "source": [
        "myntra_df.isnull().sum()\n"
      ]
    },
    {
      "cell_type": "code",
      "execution_count": null,
      "metadata": {
        "colab": {
          "base_uri": "https://localhost:8080/"
        },
        "id": "tfNXemRW05bp",
        "outputId": "8c057c22-b058-4aae-e448-b6d46a9c1c13"
      },
      "outputs": [
        {
          "output_type": "execute_result",
          "data": {
            "text/plain": [
              "13.728596363185892"
            ]
          },
          "metadata": {},
          "execution_count": 43
        }
      ],
      "source": [
        "# how many total missing values do we have?\n",
        "null_values_count= myntra_df.isnull().sum()\n",
        "\n",
        "\n",
        "total_cells = np.product(myntra_df.shape)\n",
        "total_null_values = null_values_count.sum()\n",
        "\n",
        "# percent of data that is missing\n",
        "(total_null_values/total_cells) * 100"
      ]
    },
    {
      "cell_type": "code",
      "execution_count": null,
      "metadata": {
        "colab": {
          "base_uri": "https://localhost:8080/"
        },
        "id": "fEGZyXm2na-Q",
        "outputId": "9c7ff0cb-18b8-4054-92f0-7939c214f520"
      },
      "outputs": [
        {
          "output_type": "stream",
          "name": "stdout",
          "text": [
            "<class 'pandas.core.frame.DataFrame'>\n",
            "RangeIndex: 526564 entries, 0 to 526563\n",
            "Data columns (total 13 columns):\n",
            " #   Column                 Non-Null Count   Dtype  \n",
            "---  ------                 --------------   -----  \n",
            " 0   URL                    526564 non-null  object \n",
            " 1   Product_id             526564 non-null  int64  \n",
            " 2   BrandName              526564 non-null  object \n",
            " 3   Category               526564 non-null  object \n",
            " 4   Individual_category    526564 non-null  object \n",
            " 5   category_by_Gender     526564 non-null  object \n",
            " 6   Description            526564 non-null  object \n",
            " 7   DiscountPrice (in Rs)  333406 non-null  float64\n",
            " 8   OriginalPrice (in Rs)  526564 non-null  float64\n",
            " 9   DiscountOffer          452258 non-null  object \n",
            " 10  SizeOption             526564 non-null  object \n",
            " 11  Ratings                190412 non-null  float64\n",
            " 12  Reviews                190412 non-null  float64\n",
            "dtypes: float64(4), int64(1), object(8)\n",
            "memory usage: 52.2+ MB\n"
          ]
        }
      ],
      "source": [
        "myntra_df.info()"
      ]
    },
    {
      "cell_type": "code",
      "execution_count": null,
      "metadata": {
        "id": "1cb35aFsoRlk"
      },
      "outputs": [],
      "source": [
        "myntra_df['DiscountOffer'] = myntra_df['DiscountOffer'].fillna(0)\n",
        "myntra_df['DiscountOffer'] = myntra_df['DiscountOffer'].astype(str)"
      ]
    },
    {
      "cell_type": "code",
      "execution_count": null,
      "metadata": {
        "id": "H2Vo-LqloRib"
      },
      "outputs": [],
      "source": [
        "\n",
        "myntra_df['DiscountOffer']=myntra_df['DiscountOffer'].apply(lambda x: x.split('%')[0])\n"
      ]
    },
    {
      "cell_type": "code",
      "source": [
        "myntra_df['DiscountOffer'].unique()"
      ],
      "metadata": {
        "colab": {
          "base_uri": "https://localhost:8080/"
        },
        "id": "1BvR7w_GJA8Q",
        "outputId": "d1568a82-ee1b-4bf7-8c56-086b19f0217f"
      },
      "execution_count": null,
      "outputs": [
        {
          "output_type": "execute_result",
          "data": {
            "text/plain": [
              "array(['45', '55', '31', ..., 'Rs. 334 OFF', 'Rs. 375 OFF', 'Rs. 283 OFF'],\n",
              "      dtype=object)"
            ]
          },
          "metadata": {},
          "execution_count": 47
        }
      ]
    },
    {
      "cell_type": "code",
      "execution_count": null,
      "metadata": {
        "id": "zyKHX1p41Y0h"
      },
      "outputs": [],
      "source": [
        "\n",
        "# Function to calculate the percentage\n",
        "def calculate_percentage(discount, original_price):\n",
        "    return round((discount / original_price) * 100, 2)\n",
        "\n",
        "# Update the DataFrame with the calculated percentages\n",
        "for index, row in myntra_df.iterrows():\n",
        "    discount_offer = str(row['DiscountOffer'])\n",
        "    if 'Rs.' in discount_offer and 'OFF' in discount_offer:\n",
        "        discount = float(discount_offer.replace('Rs.', '').replace('OFF', '').strip())\n",
        "        percentage = calculate_percentage(discount, row['OriginalPrice (in Rs)'])\n",
        "        myntra_df.at[index, 'DiscountOffer'] = percentage\n"
      ]
    },
    {
      "cell_type": "code",
      "execution_count": null,
      "metadata": {
        "colab": {
          "base_uri": "https://localhost:8080/"
        },
        "id": "KSGfe12Jxaus",
        "outputId": "2d720a51-d30b-4b13-c178-72079ec2a000"
      },
      "outputs": [
        {
          "output_type": "execute_result",
          "data": {
            "text/plain": [
              "array(['45', '55', '31', ..., 29.29, 31.93, 43.04], dtype=object)"
            ]
          },
          "metadata": {},
          "execution_count": 49
        }
      ],
      "source": [
        "myntra_df['DiscountOffer'].unique()"
      ]
    },
    {
      "cell_type": "code",
      "execution_count": null,
      "metadata": {
        "colab": {
          "base_uri": "https://localhost:8080/"
        },
        "id": "_3sd3vPa15NM",
        "outputId": "1bf7c983-2e7a-452c-863e-adf875c4f0d1"
      },
      "outputs": [
        {
          "output_type": "execute_result",
          "data": {
            "text/plain": [
              "URL                       object\n",
              "Product_id                 int64\n",
              "BrandName                 object\n",
              "Category                  object\n",
              "Individual_category       object\n",
              "category_by_Gender        object\n",
              "Description               object\n",
              "DiscountPrice (in Rs)    float64\n",
              "OriginalPrice (in Rs)    float64\n",
              "DiscountOffer             object\n",
              "SizeOption                object\n",
              "Ratings                  float64\n",
              "Reviews                  float64\n",
              "dtype: object"
            ]
          },
          "metadata": {},
          "execution_count": 50
        }
      ],
      "source": [
        "myntra_df.dtypes"
      ]
    },
    {
      "cell_type": "code",
      "execution_count": null,
      "metadata": {
        "id": "jw9fwcay15D1"
      },
      "outputs": [],
      "source": [
        "myntra_df['DiscountOffer']=myntra_df['DiscountOffer'].astype('float')"
      ]
    },
    {
      "cell_type": "code",
      "execution_count": null,
      "metadata": {
        "id": "VNBW8M2Uw-Qj"
      },
      "outputs": [],
      "source": [
        "def discountPrice(Original_Price, Discount_Offer):\n",
        "  return ((Original_Price*Discount_Offer)/100)\n"
      ]
    },
    {
      "cell_type": "code",
      "execution_count": null,
      "metadata": {
        "id": "0e4Clq55S-fZ"
      },
      "outputs": [],
      "source": [
        "for index, row in myntra_df.iterrows():\n",
        "    if np.isnan(row['DiscountPrice (in Rs)']):\n",
        "        discounted_price = discountPrice(row['OriginalPrice (in Rs)'], float(row['DiscountOffer']))\n",
        "        myntra_df.at[index, 'DiscountPrice (in Rs)'] = discounted_price"
      ]
    },
    {
      "cell_type": "code",
      "execution_count": null,
      "metadata": {
        "colab": {
          "base_uri": "https://localhost:8080/"
        },
        "id": "rcVUnwUZoRU6",
        "outputId": "f8da79aa-4136-41c3-8686-b0df3bec3143"
      },
      "outputs": [
        {
          "output_type": "execute_result",
          "data": {
            "text/plain": [
              "URL                           0\n",
              "Product_id                    0\n",
              "BrandName                     0\n",
              "Category                      0\n",
              "Individual_category           0\n",
              "category_by_Gender            0\n",
              "Description                   0\n",
              "DiscountPrice (in Rs)         0\n",
              "OriginalPrice (in Rs)         0\n",
              "DiscountOffer                 0\n",
              "SizeOption                    0\n",
              "Ratings                  336152\n",
              "Reviews                  336152\n",
              "dtype: int64"
            ]
          },
          "metadata": {},
          "execution_count": 54
        }
      ],
      "source": [
        "myntra_df.isnull().sum()"
      ]
    },
    {
      "cell_type": "code",
      "execution_count": null,
      "metadata": {
        "id": "JWPlh4OjTzTs"
      },
      "outputs": [],
      "source": [
        "myntra_df['Ratings'] = myntra_df['Ratings'].fillna(0)\n",
        "myntra_df['Reviews'] = myntra_df['Reviews'].fillna(0)"
      ]
    },
    {
      "cell_type": "code",
      "execution_count": null,
      "metadata": {
        "colab": {
          "base_uri": "https://localhost:8080/"
        },
        "id": "dzg94bizTzRU",
        "outputId": "79c09ed0-3210-444f-adec-ff6ab27d0a90"
      },
      "outputs": [
        {
          "output_type": "execute_result",
          "data": {
            "text/plain": [
              "URL                      0\n",
              "Product_id               0\n",
              "BrandName                0\n",
              "Category                 0\n",
              "Individual_category      0\n",
              "category_by_Gender       0\n",
              "Description              0\n",
              "DiscountPrice (in Rs)    0\n",
              "OriginalPrice (in Rs)    0\n",
              "DiscountOffer            0\n",
              "SizeOption               0\n",
              "Ratings                  0\n",
              "Reviews                  0\n",
              "dtype: int64"
            ]
          },
          "metadata": {},
          "execution_count": 56
        }
      ],
      "source": [
        "\n",
        "myntra_df.isnull().sum()"
      ]
    },
    {
      "cell_type": "code",
      "execution_count": null,
      "metadata": {
        "colab": {
          "base_uri": "https://localhost:8080/"
        },
        "id": "LrXez81bTzOu",
        "outputId": "5f17d83f-8e52-47c7-ad1c-4ac8619ac6df"
      },
      "outputs": [
        {
          "output_type": "execute_result",
          "data": {
            "text/plain": [
              "URL                       object\n",
              "Product_id                 int64\n",
              "BrandName                 object\n",
              "Category                  object\n",
              "Individual_category       object\n",
              "category_by_Gender        object\n",
              "Description               object\n",
              "DiscountPrice (in Rs)    float64\n",
              "OriginalPrice (in Rs)    float64\n",
              "DiscountOffer            float64\n",
              "SizeOption                object\n",
              "Ratings                  float64\n",
              "Reviews                  float64\n",
              "dtype: object"
            ]
          },
          "metadata": {},
          "execution_count": 57
        }
      ],
      "source": [
        "myntra_df.dtypes"
      ]
    },
    {
      "cell_type": "code",
      "execution_count": null,
      "metadata": {
        "colab": {
          "base_uri": "https://localhost:8080/",
          "height": 441
        },
        "id": "XE8W0BqoCm4a",
        "outputId": "b28d1471-3295-4fac-a138-1747dee895f5"
      },
      "outputs": [
        {
          "output_type": "execute_result",
          "data": {
            "text/plain": [
              "                                                 URL  Product_id   BrandName  \\\n",
              "0  https://www.myntra.com/jeans/roadster/roadster...     2296012    Roadster   \n",
              "1  https://www.myntra.com/track-pants/locomotive/...    13780156  LOCOMOTIVE   \n",
              "2  https://www.myntra.com/shirts/roadster/roadste...    11895958    Roadster   \n",
              "3  https://www.myntra.com/shapewear/zivame/zivame...     4335679      Zivame   \n",
              "4  https://www.myntra.com/tshirts/roadster/roadst...    11690882    Roadster   \n",
              "\n",
              "                Category Individual_category category_by_Gender  \\\n",
              "0            Bottom Wear               jeans                Men   \n",
              "1            Bottom Wear         track-pants                Men   \n",
              "2                Topwear              shirts                Men   \n",
              "3  Lingerie & Sleep Wear           shapewear              Women   \n",
              "4                Western             tshirts              Women   \n",
              "\n",
              "                                         Description  DiscountPrice (in Rs)  \\\n",
              "0  roadster men navy blue slim fit mid rise clean...                 824.00   \n",
              "1  locomotive men black  white solid slim fit tra...                 517.00   \n",
              "2  roadster men navy white  black geometric print...                 629.00   \n",
              "3  zivame women black saree shapewear zi3023core0...                 893.00   \n",
              "4  roadster women white solid v neck pure cotton ...                 209.65   \n",
              "\n",
              "   OriginalPrice (in Rs)  DiscountOffer              SizeOption  Ratings  \\\n",
              "0                 1499.0           45.0      28, 30, 32, 34, 36      3.9   \n",
              "1                 1149.0           55.0             S, M, L, XL      4.0   \n",
              "2                 1399.0           55.0  38, 40, 42, 44, 46, 48      4.3   \n",
              "3                 1295.0           31.0        S, M, L, XL, XXL      4.2   \n",
              "4                  599.0           35.0         XS, S, M, L, XL      4.2   \n",
              "\n",
              "   Reviews  \n",
              "0    999.0  \n",
              "1    999.0  \n",
              "2    999.0  \n",
              "3    999.0  \n",
              "4    999.0  "
            ],
            "text/html": [
              "\n",
              "  <div id=\"df-d42eadfa-6b41-49b9-8b05-d4bcc085651c\">\n",
              "    <div class=\"colab-df-container\">\n",
              "      <div>\n",
              "<style scoped>\n",
              "    .dataframe tbody tr th:only-of-type {\n",
              "        vertical-align: middle;\n",
              "    }\n",
              "\n",
              "    .dataframe tbody tr th {\n",
              "        vertical-align: top;\n",
              "    }\n",
              "\n",
              "    .dataframe thead th {\n",
              "        text-align: right;\n",
              "    }\n",
              "</style>\n",
              "<table border=\"1\" class=\"dataframe\">\n",
              "  <thead>\n",
              "    <tr style=\"text-align: right;\">\n",
              "      <th></th>\n",
              "      <th>URL</th>\n",
              "      <th>Product_id</th>\n",
              "      <th>BrandName</th>\n",
              "      <th>Category</th>\n",
              "      <th>Individual_category</th>\n",
              "      <th>category_by_Gender</th>\n",
              "      <th>Description</th>\n",
              "      <th>DiscountPrice (in Rs)</th>\n",
              "      <th>OriginalPrice (in Rs)</th>\n",
              "      <th>DiscountOffer</th>\n",
              "      <th>SizeOption</th>\n",
              "      <th>Ratings</th>\n",
              "      <th>Reviews</th>\n",
              "    </tr>\n",
              "  </thead>\n",
              "  <tbody>\n",
              "    <tr>\n",
              "      <th>0</th>\n",
              "      <td>https://www.myntra.com/jeans/roadster/roadster...</td>\n",
              "      <td>2296012</td>\n",
              "      <td>Roadster</td>\n",
              "      <td>Bottom Wear</td>\n",
              "      <td>jeans</td>\n",
              "      <td>Men</td>\n",
              "      <td>roadster men navy blue slim fit mid rise clean...</td>\n",
              "      <td>824.00</td>\n",
              "      <td>1499.0</td>\n",
              "      <td>45.0</td>\n",
              "      <td>28, 30, 32, 34, 36</td>\n",
              "      <td>3.9</td>\n",
              "      <td>999.0</td>\n",
              "    </tr>\n",
              "    <tr>\n",
              "      <th>1</th>\n",
              "      <td>https://www.myntra.com/track-pants/locomotive/...</td>\n",
              "      <td>13780156</td>\n",
              "      <td>LOCOMOTIVE</td>\n",
              "      <td>Bottom Wear</td>\n",
              "      <td>track-pants</td>\n",
              "      <td>Men</td>\n",
              "      <td>locomotive men black  white solid slim fit tra...</td>\n",
              "      <td>517.00</td>\n",
              "      <td>1149.0</td>\n",
              "      <td>55.0</td>\n",
              "      <td>S, M, L, XL</td>\n",
              "      <td>4.0</td>\n",
              "      <td>999.0</td>\n",
              "    </tr>\n",
              "    <tr>\n",
              "      <th>2</th>\n",
              "      <td>https://www.myntra.com/shirts/roadster/roadste...</td>\n",
              "      <td>11895958</td>\n",
              "      <td>Roadster</td>\n",
              "      <td>Topwear</td>\n",
              "      <td>shirts</td>\n",
              "      <td>Men</td>\n",
              "      <td>roadster men navy white  black geometric print...</td>\n",
              "      <td>629.00</td>\n",
              "      <td>1399.0</td>\n",
              "      <td>55.0</td>\n",
              "      <td>38, 40, 42, 44, 46, 48</td>\n",
              "      <td>4.3</td>\n",
              "      <td>999.0</td>\n",
              "    </tr>\n",
              "    <tr>\n",
              "      <th>3</th>\n",
              "      <td>https://www.myntra.com/shapewear/zivame/zivame...</td>\n",
              "      <td>4335679</td>\n",
              "      <td>Zivame</td>\n",
              "      <td>Lingerie &amp; Sleep Wear</td>\n",
              "      <td>shapewear</td>\n",
              "      <td>Women</td>\n",
              "      <td>zivame women black saree shapewear zi3023core0...</td>\n",
              "      <td>893.00</td>\n",
              "      <td>1295.0</td>\n",
              "      <td>31.0</td>\n",
              "      <td>S, M, L, XL, XXL</td>\n",
              "      <td>4.2</td>\n",
              "      <td>999.0</td>\n",
              "    </tr>\n",
              "    <tr>\n",
              "      <th>4</th>\n",
              "      <td>https://www.myntra.com/tshirts/roadster/roadst...</td>\n",
              "      <td>11690882</td>\n",
              "      <td>Roadster</td>\n",
              "      <td>Western</td>\n",
              "      <td>tshirts</td>\n",
              "      <td>Women</td>\n",
              "      <td>roadster women white solid v neck pure cotton ...</td>\n",
              "      <td>209.65</td>\n",
              "      <td>599.0</td>\n",
              "      <td>35.0</td>\n",
              "      <td>XS, S, M, L, XL</td>\n",
              "      <td>4.2</td>\n",
              "      <td>999.0</td>\n",
              "    </tr>\n",
              "  </tbody>\n",
              "</table>\n",
              "</div>\n",
              "      <button class=\"colab-df-convert\" onclick=\"convertToInteractive('df-d42eadfa-6b41-49b9-8b05-d4bcc085651c')\"\n",
              "              title=\"Convert this dataframe to an interactive table.\"\n",
              "              style=\"display:none;\">\n",
              "        \n",
              "  <svg xmlns=\"http://www.w3.org/2000/svg\" height=\"24px\"viewBox=\"0 0 24 24\"\n",
              "       width=\"24px\">\n",
              "    <path d=\"M0 0h24v24H0V0z\" fill=\"none\"/>\n",
              "    <path d=\"M18.56 5.44l.94 2.06.94-2.06 2.06-.94-2.06-.94-.94-2.06-.94 2.06-2.06.94zm-11 1L8.5 8.5l.94-2.06 2.06-.94-2.06-.94L8.5 2.5l-.94 2.06-2.06.94zm10 10l.94 2.06.94-2.06 2.06-.94-2.06-.94-.94-2.06-.94 2.06-2.06.94z\"/><path d=\"M17.41 7.96l-1.37-1.37c-.4-.4-.92-.59-1.43-.59-.52 0-1.04.2-1.43.59L10.3 9.45l-7.72 7.72c-.78.78-.78 2.05 0 2.83L4 21.41c.39.39.9.59 1.41.59.51 0 1.02-.2 1.41-.59l7.78-7.78 2.81-2.81c.8-.78.8-2.07 0-2.86zM5.41 20L4 18.59l7.72-7.72 1.47 1.35L5.41 20z\"/>\n",
              "  </svg>\n",
              "      </button>\n",
              "      \n",
              "  <style>\n",
              "    .colab-df-container {\n",
              "      display:flex;\n",
              "      flex-wrap:wrap;\n",
              "      gap: 12px;\n",
              "    }\n",
              "\n",
              "    .colab-df-convert {\n",
              "      background-color: #E8F0FE;\n",
              "      border: none;\n",
              "      border-radius: 50%;\n",
              "      cursor: pointer;\n",
              "      display: none;\n",
              "      fill: #1967D2;\n",
              "      height: 32px;\n",
              "      padding: 0 0 0 0;\n",
              "      width: 32px;\n",
              "    }\n",
              "\n",
              "    .colab-df-convert:hover {\n",
              "      background-color: #E2EBFA;\n",
              "      box-shadow: 0px 1px 2px rgba(60, 64, 67, 0.3), 0px 1px 3px 1px rgba(60, 64, 67, 0.15);\n",
              "      fill: #174EA6;\n",
              "    }\n",
              "\n",
              "    [theme=dark] .colab-df-convert {\n",
              "      background-color: #3B4455;\n",
              "      fill: #D2E3FC;\n",
              "    }\n",
              "\n",
              "    [theme=dark] .colab-df-convert:hover {\n",
              "      background-color: #434B5C;\n",
              "      box-shadow: 0px 1px 3px 1px rgba(0, 0, 0, 0.15);\n",
              "      filter: drop-shadow(0px 1px 2px rgba(0, 0, 0, 0.3));\n",
              "      fill: #FFFFFF;\n",
              "    }\n",
              "  </style>\n",
              "\n",
              "      <script>\n",
              "        const buttonEl =\n",
              "          document.querySelector('#df-d42eadfa-6b41-49b9-8b05-d4bcc085651c button.colab-df-convert');\n",
              "        buttonEl.style.display =\n",
              "          google.colab.kernel.accessAllowed ? 'block' : 'none';\n",
              "\n",
              "        async function convertToInteractive(key) {\n",
              "          const element = document.querySelector('#df-d42eadfa-6b41-49b9-8b05-d4bcc085651c');\n",
              "          const dataTable =\n",
              "            await google.colab.kernel.invokeFunction('convertToInteractive',\n",
              "                                                     [key], {});\n",
              "          if (!dataTable) return;\n",
              "\n",
              "          const docLinkHtml = 'Like what you see? Visit the ' +\n",
              "            '<a target=\"_blank\" href=https://colab.research.google.com/notebooks/data_table.ipynb>data table notebook</a>'\n",
              "            + ' to learn more about interactive tables.';\n",
              "          element.innerHTML = '';\n",
              "          dataTable['output_type'] = 'display_data';\n",
              "          await google.colab.output.renderOutput(dataTable, element);\n",
              "          const docLink = document.createElement('div');\n",
              "          docLink.innerHTML = docLinkHtml;\n",
              "          element.appendChild(docLink);\n",
              "        }\n",
              "      </script>\n",
              "    </div>\n",
              "  </div>\n",
              "  "
            ]
          },
          "metadata": {},
          "execution_count": 58
        }
      ],
      "source": [
        "myntra_df.head()"
      ]
    },
    {
      "cell_type": "code",
      "execution_count": null,
      "metadata": {
        "colab": {
          "base_uri": "https://localhost:8080/",
          "height": 708
        },
        "id": "YZjSCzVbww73",
        "outputId": "a0428ab0-7efc-4057-fe47-611c8aa533f0"
      },
      "outputs": [
        {
          "output_type": "display_data",
          "data": {
            "text/plain": [
              "<Figure size 1200x600 with 1 Axes>"
            ],
            "image/png": "[encoded data removed]"
          },
          "metadata": {}
        }
      ],
      "source": [
        "import seaborn as sns\n",
        "import matplotlib.pyplot as plt\n",
        "\n",
        "# Plotting bar chart for Category with respect to DiscountOffer\n",
        "plt.figure(figsize=(12, 6))\n",
        "sns.barplot(data=myntra_df, x='Category', y='DiscountOffer',  palette='plasma')\n",
        "plt.xticks(rotation=45)\n",
        "plt.xlabel('Category')\n",
        "plt.ylabel('Discount Offer')\n",
        "plt.title('Discount Offer by Category')\n",
        "plt.show()\n"
      ]
    },
    {
      "cell_type": "code",
      "execution_count": null,
      "metadata": {
        "colab": {
          "base_uri": "https://localhost:8080/",
          "height": 807
        },
        "id": "_CNaeYxmxD6L",
        "outputId": "94fc845d-5897-4098-df06-b83ccb777d7b"
      },
      "outputs": [
        {
          "output_type": "display_data",
          "data": {
            "text/plain": [
              "<Figure size 1500x700 with 1 Axes>"
            ],
            "image/png": "[encoded data removed]"
          },
          "metadata": {}
        }
      ],
      "source": [
        "import seaborn as sns\n",
        "import matplotlib.pyplot as plt\n",
        "\n",
        "# Counting the occurrences of each brand\n",
        "brand_name_count = myntra_df['BrandName'].value_counts()\n",
        "\n",
        "# Selecting the top 10 brands\n",
        "top_10_brands = brand_name_count[:10]\n",
        "\n",
        "# Setting the plot style\n",
        "sns.set_theme(style=\"white\")\n",
        "\n",
        "# Creating the bar plot\n",
        "plt.figure(figsize=(15, 7))\n",
        "top_10_brands.plot(kind='bar', color='#0000FF')\n",
        "plt.xticks(rotation=90)\n",
        "plt.xlabel('Brand Name')\n",
        "plt.ylabel('Count')\n",
        "plt.title('Product Count by Brand (Top 10)')\n",
        "plt.show()\n"
      ]
    },
    {
      "cell_type": "code",
      "execution_count": null,
      "metadata": {
        "colab": {
          "base_uri": "https://localhost:8080/",
          "height": 573
        },
        "id": "C8x-3qrCxQZM",
        "outputId": "f93c384f-f7c8-4c92-a1fc-e07e8778fbc2"
      },
      "outputs": [
        {
          "output_type": "display_data",
          "data": {
            "text/plain": [
              "<Figure size 800x600 with 1 Axes>"
            ],
            "image/png": "[encoded data removed]"
          },
          "metadata": {}
        }
      ],
      "source": [
        "# Plotting bar chart for category_by_Gender\n",
        "plt.figure(figsize=(8, 6))\n",
        "sns.countplot(data=myntra_df, x='category_by_Gender', color='blue')\n",
        "plt.xlabel('Category by Gender')\n",
        "plt.ylabel('Count')\n",
        "plt.title('Product Count by Gender')\n",
        "plt.show()\n"
      ]
    },
    {
      "cell_type": "code",
      "execution_count": null,
      "metadata": {
        "id": "uuiTE8ftMbUi"
      },
      "outputs": [],
      "source": [
        "myntra_df.to_csv(\"/content/drive/MyDrive/Colab Notebooks/Analytics Vidhya/Myntra cleaned dataset - Sheet1.csv\")\n"
      ]
    },
    {
      "cell_type": "code",
      "execution_count": null,
      "metadata": {
        "id": "PXDdd-aaL4KG"
      },
      "outputs": [],
      "source": [
        "myntra_df1= pd.read_csv(\"/content/drive/MyDrive/Colab Notebooks/Analytics Vidhya/Myntra cleaned dataset - Sheet1.csv\")"
      ]
    },
    {
      "cell_type": "code",
      "execution_count": null,
      "metadata": {
        "colab": {
          "base_uri": "https://localhost:8080/"
        },
        "id": "xtdmxtAMMP6I",
        "outputId": "e41d58b8-bc89-4d7a-c367-8f63651791df"
      },
      "outputs": [
        {
          "output_type": "execute_result",
          "data": {
            "text/plain": [
              "Unnamed: 0               0\n",
              "URL                      0\n",
              "Product_id               0\n",
              "BrandName                0\n",
              "Category                 0\n",
              "Individual_category      0\n",
              "category_by_Gender       0\n",
              "Description              0\n",
              "DiscountPrice (in Rs)    0\n",
              "OriginalPrice (in Rs)    0\n",
              "DiscountOffer            0\n",
              "SizeOption               0\n",
              "Ratings                  0\n",
              "Reviews                  0\n",
              "dtype: int64"
            ]
          },
          "metadata": {},
          "execution_count": 64
        }
      ],
      "source": [
        "myntra_df1.isnull().sum()"
      ]
    },
    {
      "cell_type": "code",
      "execution_count": null,
      "metadata": {
        "colab": {
          "base_uri": "https://localhost:8080/",
          "height": 480
        },
        "id": "m_yiol_iNXhv",
        "outputId": "32befe97-4de0-46a4-a04e-4605fc6f8124"
      },
      "outputs": [
        {
          "output_type": "display_data",
          "data": {
            "text/plain": [
              "<Figure size 640x480 with 1 Axes>"
            ],
            "image/png": "[encoded data removed]"
          },
          "metadata": {}
        }
      ],
      "source": [
        "# Remove NaN values from the discount prices\n",
        "myntra_df = myntra_df.dropna(subset=[\"DiscountPrice (in Rs)\"])\n",
        "\n",
        "# Calculate the final prices\n",
        "final_prices = [discount_price if discount_price else original_price for discount_price, original_price in zip(myntra_df[\"DiscountPrice (in Rs)\"], myntra_df[\"OriginalPrice (in Rs)\"])]\n",
        "\n",
        "# Define the desired x-axis range\n",
        "x_min = 0  # Minimum value of the range\n",
        "x_max = 2000  # Maximum value of the range\n",
        "\n",
        "# Create a histogram of the price distribution with the specified range\n",
        "plt.hist(final_prices, bins=20, range=(x_min, x_max), color='blue')\n",
        "plt.xlabel(\"Price (in Rs)\")\n",
        "plt.ylabel(\"Number of Products\")\n",
        "plt.title(\"Distribution of Product Prices\")\n",
        "\n",
        "plt.show()"
      ]
    },
    {
      "cell_type": "code",
      "source": [
        "# Calculate the discount for each product\n",
        "myntra_df[\"discount\"] = 1 - myntra_df[\"DiscountPrice (in Rs)\"] / myntra_df[\"OriginalPrice (in Rs)\"]\n",
        "\n",
        "# Calculate the popularity of each product\n",
        "myntra_df[\"popularity\"] = myntra_df[\"Reviews\"] / myntra_df[\"SizeOption\"].str.len()\n",
        "\n",
        "# Plot the relationship between discount and popularity\n",
        "plt.scatter(myntra_df[\"discount\"], myntra_df[\"popularity\"], color='blue')\n",
        "plt.xlabel(\"Discount (%)\")\n",
        "plt.ylabel(\"Popularity\")\n",
        "\n",
        "# Calculate the correlation coefficient between discount and popularity\n",
        "correlation = myntra_df[\"discount\"].corr(myntra_df[\"popularity\"])\n",
        "\n",
        "print(\"The correlation coefficient between discount and popularity is\", correlation)"
      ],
      "metadata": {
        "colab": {
          "base_uri": "https://localhost:8080/",
          "height": 475
        },
        "id": "qctlyjMM1UoR",
        "outputId": "5ec3fd7e-f2fb-4762-bea8-76b657ecfa36"
      },
      "execution_count": null,
      "outputs": [
        {
          "output_type": "stream",
          "name": "stdout",
          "text": [
            "The correlation coefficient between discount and popularity is -0.0067308090053761075\n"
          ]
        },
        {
          "output_type": "display_data",
          "data": {
            "text/plain": [
              "<Figure size 640x480 with 1 Axes>"
            ],
            "image/png": "[encoded data removed]"
          },
          "metadata": {}
        }
      ]
    },
    {
      "cell_type": "code",
      "source": [
        "\n",
        "# Calculate the average rating for each product category\n",
        "category_average_rating = myntra_df.groupby(\"Category\")[\"Ratings\"].mean()\n",
        "\n",
        "# Create a bar chart of the average rating for each product category\n",
        "plt.figure(figsize=(10, 5))\n",
        "plt.bar(category_average_rating.index, category_average_rating, color='blue')\n",
        "plt.title(\"Average Rating by Product Category\")\n",
        "plt.xticks(rotation=90)\n",
        "plt.show()\n",
        "\n",
        "\n",
        "# Calculate the average rating for each gender\n",
        "gender_average_rating = myntra_df.groupby(\"category_by_Gender\")[\"Ratings\"].mean()\n",
        "\n",
        "# Create a bar chart of the average rating for each gender\n",
        "plt.figure(figsize=(10, 6))\n",
        "plt.bar(gender_average_rating.index, gender_average_rating, color='blue')\n",
        "plt.title(\"Average Rating by Gender\")\n",
        "plt.xticks(rotation=90)\n",
        "plt.show()"
      ],
      "metadata": {
        "colab": {
          "base_uri": "https://localhost:8080/",
          "height": 1000
        },
        "id": "_2dPj86C2-_y",
        "outputId": "90c5503f-29e2-470a-eed2-6abeb17f3011"
      },
      "execution_count": null,
      "outputs": [
        {
          "output_type": "display_data",
          "data": {
            "text/plain": [
              "<Figure size 1000x500 with 1 Axes>"
            ],
            "image/png": "[encoded data removed]"
          },
          "metadata": {}
        },
        {
          "output_type": "display_data",
          "data": {
            "text/plain": [
              "<Figure size 1000x600 with 1 Axes>"
            ],
            "image/png": "[encoded data removed]"
          },
          "metadata": {}
        }
      ]
    },
    {
      "cell_type": "markdown",
      "source": [
        "## **Conclusion**\n",
        "\n",
        "In conclusion, the analysis of the Myntra Fashion Clothing dataset provides key insights for Myntra to enhance its business strategies. By focusing on affordable price points, improving women's product offerings, capitalizing on the popularity of plus-size categories, optimizing discount strategies, and nurturing partnerships with popular brands, Myntra can enhance customer satisfaction, drive sales, and maintain a competitive edge in the dynamic fashion e-commerce industry.\n"
      ],
      "metadata": {
        "id": "JMYmcltwKLeU"
      }
    },
    {
      "cell_type": "code",
      "source": [],
      "metadata": {
        "id": "L7KhKxE-34in"
      },
      "execution_count": null,
      "outputs": []
    }
  ],
  "metadata": {
    "colab": {
      "provenance": [],
      "mount_file_id": "1Hv9MvqNIgehfW5Ohkwi1_DGeFdSYCL7p",
      "authorship_tag": "ABX9TyOrSLkkXYfsWe/eoK3PPRpY",
      "include_colab_link": true
    },
    "kernelspec": {
      "display_name": "Python 3",
      "name": "python3"
    },
    "language_info": {
      "name": "python"
    }
  },
  "nbformat": 4,
  "nbformat_minor": 0
}